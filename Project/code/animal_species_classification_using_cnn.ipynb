{
  "metadata": {
    "kernelspec": {
      "language": "python",
      "display_name": "Python 3",
      "name": "python3"
    },
    "language_info": {
      "name": "python",
      "version": "3.7.12",
      "mimetype": "text/x-python",
      "codemirror_mode": {
        "name": "ipython",
        "version": 3
      },
      "pygments_lexer": "ipython3",
      "nbconvert_exporter": "python",
      "file_extension": ".py"
    },
    "colab": {
      "provenance": []
    }
  },
  "nbformat_minor": 0,
  "nbformat": 4,
  "cells": [
    {
      "cell_type": "code",
      "source": [
        "from google.colab import drive\n",
        "drive.mount('/content/drive')"
      ],
      "metadata": {
        "colab": {
          "base_uri": "https://localhost:8080/"
        },
        "id": "kTyE0lOq3gNV",
        "outputId": "d1c965c8-6e41-4d11-ac2b-db8b7174559e"
      },
      "execution_count": 1,
      "outputs": [
        {
          "output_type": "stream",
          "name": "stdout",
          "text": [
            "Mounted at /content/drive\n"
          ]
        }
      ]
    },
    {
      "cell_type": "code",
      "source": [
        "import zipfile\n",
        "with zipfile.ZipFile(\"/content/drive/MyDrive/data/archive.zip\", 'r') as zip_ref:\n",
        "    zip_ref.extractall(\"/content/drive/MyDrive/data/\")"
      ],
      "metadata": {
        "id": "hNBtgBae9qxn"
      },
      "execution_count": 2,
      "outputs": []
    },
    {
      "cell_type": "code",
      "source": [
        "# Import libraries\n",
        "import os  # For interacting with the file system\n",
        "import shutil  # For managing files and directories in a cross-platform manner\n",
        "import keras  # For building deep learning models\n",
        "import numpy as np  # For numerical operations on arrays\n",
        "from glob import glob  # For finding file paths\n",
        "from tqdm import tqdm  # For progress bars\n",
        "\n",
        "# Data preprocessing\n",
        "from keras.preprocessing.image import ImageDataGenerator  # For image data augmentation\n",
        "\n",
        "# Data visualization\n",
        "import seaborn as sns  # For statistical visualizations\n",
        "import plotly.graph_objs as go  # For interactive visualizations\n",
        "import matplotlib.pyplot as plt  # For creating static plots\n",
        "\n",
        "# Model architecture\n",
        "from keras import Sequential  # For building sequential models\n",
        "from keras.models import load_model  # For loading pre-trained models\n",
        "from keras.layers import Dense, GlobalAvgPool2D as GAP, Dropout  # For defining model layers\n",
        "\n",
        "# Training callbacks\n",
        "from keras.callbacks import ModelCheckpoint, EarlyStopping  # For training callbacks\n",
        "\n",
        "# Pre-trained models\n",
        "from tensorflow.keras.applications import InceptionV3, Xception, ResNet152V2  # For using pre-trained models\n"
      ],
      "metadata": {
        "_uuid": "8f2839f25d086af736a60e9eeb907d3b93b6e0e5",
        "_cell_guid": "b1076dfc-b9ad-4769-8c92-a6c4dae69d19",
        "execution": {
          "iopub.status.busy": "2023-03-14T20:31:14.424695Z",
          "iopub.execute_input": "2023-03-14T20:31:14.425409Z",
          "iopub.status.idle": "2023-03-14T20:31:14.432155Z",
          "shell.execute_reply.started": "2023-03-14T20:31:14.425370Z",
          "shell.execute_reply": "2023-03-14T20:31:14.430986Z"
        },
        "trusted": true,
        "id": "azA5pe7k3XWm"
      },
      "execution_count": 3,
      "outputs": []
    },
    {
      "cell_type": "code",
      "source": [
        "# Set the path to the dataset\n",
        "data_path = '/content/drive/MyDrive/data/raw-img'\n",
        "\n",
        "# Get a list of class names from the data path\n",
        "class_names = sorted(os.listdir(data_path))\n",
        "\n",
        "# Count the number of classes\n",
        "num_classes = len(class_names)\n",
        "\n",
        "# Print the class names and the total number of classes\n",
        "print(\"Class Names: \\n\", class_names)\n",
        "print(\"Number of Classes:\", num_classes)"
      ],
      "metadata": {
        "execution": {
          "iopub.status.busy": "2023-03-14T20:31:27.458271Z",
          "iopub.execute_input": "2023-03-14T20:31:27.459230Z",
          "iopub.status.idle": "2023-03-14T20:31:27.467969Z",
          "shell.execute_reply.started": "2023-03-14T20:31:27.459177Z",
          "shell.execute_reply": "2023-03-14T20:31:27.466679Z"
        },
        "trusted": true,
        "colab": {
          "base_uri": "https://localhost:8080/"
        },
        "id": "EYmcWhyV3XWp",
        "outputId": "4c5e396e-ace7-4f11-e22b-13e927cf2b45"
      },
      "execution_count": 5,
      "outputs": [
        {
          "output_type": "stream",
          "name": "stdout",
          "text": [
            "Class Names: \n",
            " ['cane', 'cavallo', 'elefante', 'farfalla', 'gallina', 'gatto', 'mucca', 'pecora', 'ragno', 'scoiattolo']\n",
            "Number of Classes: 10\n"
          ]
        }
      ]
    },
    {
      "cell_type": "code",
      "source": [
        "# Set the path to the directory where the sampled data will be saved\n",
        "sampled_data_path = '/content/drive/MyDrive/data/raw-img'\n"
      ],
      "metadata": {
        "execution": {
          "iopub.status.busy": "2023-03-14T20:50:56.583464Z",
          "iopub.execute_input": "2023-03-14T20:50:56.584181Z",
          "iopub.status.idle": "2023-03-14T20:51:21.895939Z",
          "shell.execute_reply.started": "2023-03-14T20:50:56.584140Z",
          "shell.execute_reply": "2023-03-14T20:51:21.894807Z"
        },
        "trusted": true,
        "id": "iya7KeQj3XWx"
      },
      "execution_count": 8,
      "outputs": []
    },
    {
      "cell_type": "code",
      "source": [
        "# Initialize Generator with the specified image transformations and preprocessing\n",
        "# rescale: normalizes pixel values from 0-255 to 0-1\n",
        "# horizontal_flip: randomly flips images horizontally\n",
        "# vertical_flip: randomly flips images vertically\n",
        "# rotation_range: randomly rotates images by a given range in degrees\n",
        "# validation_split: splits the data into training and validation sets, with 20% of the data used for validation\n",
        "data_generator = ImageDataGenerator(\n",
        "    rescale=1./255,\n",
        "    horizontal_flip=True,\n",
        "    vertical_flip=True,\n",
        "    rotation_range=20,\n",
        "    validation_split=0.2)\n",
        "\n",
        "# Load training data from the specified directory and apply the generator\n",
        "# target_size: resizes the images to a specified size\n",
        "# class_mode: specifies the type of label encoding, binary for 2 classes\n",
        "# batch_size: specifies the number of samples per batch\n",
        "# shuffle: shuffles the data after each epoch\n",
        "# subset: specifies the subset of data to load, in this case, the training set\n",
        "train_data = data_generator.flow_from_directory(\n",
        "    sampled_data_path,\n",
        "    target_size=(256,256),\n",
        "    class_mode='binary',\n",
        "    batch_size=32,\n",
        "    shuffle=True,\n",
        "    subset='training')\n",
        "\n",
        "# Load validation data from the specified directory and apply the generator\n",
        "# subset: specifies the subset of data to load, in this case, the validation set\n",
        "valid_data = data_generator.flow_from_directory(\n",
        "    sampled_data_path,\n",
        "    target_size=(256,256),\n",
        "    class_mode='binary',\n",
        "    batch_size=32,\n",
        "    shuffle=True,\n",
        "    subset='validation')"
      ],
      "metadata": {
        "execution": {
          "iopub.status.busy": "2023-03-14T20:52:01.356095Z",
          "iopub.execute_input": "2023-03-14T20:52:01.356461Z",
          "iopub.status.idle": "2023-03-14T20:52:02.425225Z",
          "shell.execute_reply.started": "2023-03-14T20:52:01.356429Z",
          "shell.execute_reply": "2023-03-14T20:52:02.424234Z"
        },
        "trusted": true,
        "colab": {
          "base_uri": "https://localhost:8080/"
        },
        "id": "Jj9cm8_R3XW0",
        "outputId": "dd68ae81-1abc-4a8c-f4e2-0ec8f950031d"
      },
      "execution_count": 9,
      "outputs": [
        {
          "output_type": "stream",
          "name": "stdout",
          "text": [
            "Found 20947 images belonging to 10 classes.\n",
            "Found 5232 images belonging to 10 classes.\n"
          ]
        }
      ]
    },
    {
      "cell_type": "code",
      "source": [
        "# Specify the name of the model as \"ResNet152V2\".\n",
        "name = \"ResNet152V2\"\n",
        "\n",
        "# Load the pre-trained ResNet152V2 model, freeze its weights and exclude its final classification layer.\n",
        "base_model = ResNet152V2(include_top=False, input_shape=(256,256,3), weights='imagenet')\n",
        "base_model.trainable = False\n",
        "\n",
        "# Create a sequential model with the ResNet152V2 base model, a global average pooling layer, two fully connected layers, and a final softmax classification layer.\n",
        "resnet152V2 = Sequential([\n",
        "    base_model,\n",
        "    GAP(),\n",
        "    Dense(256, activation='relu'),\n",
        "    Dropout(0.2),\n",
        "    Dense(num_classes, activation='softmax')\n",
        "], name=name)\n",
        "\n",
        "# Compile the model with sparse categorical cross-entropy as the loss function, Adam optimizer and accuracy as the evaluation metric.\n",
        "resnet152V2.compile(\n",
        "    loss='sparse_categorical_crossentropy',\n",
        "    optimizer='adam',\n",
        "    metrics=['accuracy']\n",
        ")\n",
        "\n",
        "# Set up the EarlyStopping and ModelCheckpoint callbacks to monitor the training process and save the best model weights.\n",
        "cbs = [\n",
        "    EarlyStopping(patience=3, restore_best_weights=True),\n",
        "    ModelCheckpoint(name + \".h5\", save_best_only=True)\n",
        "]\n",
        "\n",
        "# Train the model using the training and validation datasets, using 50 epochs and the previously defined callbacks.\n",
        "resnet152V2.fit(\n",
        "    train_data, validation_data=valid_data,\n",
        "    epochs=50, callbacks=cbs\n",
        ")\n"
      ],
      "metadata": {
        "execution": {
          "iopub.status.busy": "2023-03-12T17:29:12.736055Z",
          "iopub.execute_input": "2023-03-12T17:29:12.736647Z",
          "iopub.status.idle": "2023-03-12T17:44:12.725612Z",
          "shell.execute_reply.started": "2023-03-12T17:29:12.736613Z",
          "shell.execute_reply": "2023-03-12T17:44:12.7246Z"
        },
        "trusted": true,
        "colab": {
          "base_uri": "https://localhost:8080/"
        },
        "id": "v8AOYCVN3XW5",
        "outputId": "beb22fb4-8761-41b6-d2b8-1ab2e282bcc5"
      },
      "execution_count": null,
      "outputs": [
        {
          "output_type": "stream",
          "name": "stdout",
          "text": [
            "Downloading data from https://storage.googleapis.com/tensorflow/keras-applications/resnet/resnet152v2_weights_tf_dim_ordering_tf_kernels_notop.h5\n",
            "234545216/234545216 [==============================] - 3s 0us/step\n",
            "Epoch 1/50\n",
            "169/655 [======>.......................] - ETA: 2:55:40 - loss: 0.5345 - accuracy: 0.8336"
          ]
        }
      ]
    },
    {
      "cell_type": "code",
      "source": [
        "# set the file path to the pre-trained model\n",
        "model_file_path = '/kaggle/working/ResNet152V2.h5'\n",
        "\n",
        "# load the pre-trained model\n",
        "loaded_model = load_model(model_file_path)\n",
        "\n",
        "# print a summary of the model's architecture\n",
        "loaded_model.summary()"
      ],
      "metadata": {
        "execution": {
          "iopub.status.busy": "2023-03-12T18:58:30.022294Z",
          "iopub.execute_input": "2023-03-12T18:58:30.023325Z",
          "iopub.status.idle": "2023-03-12T18:58:36.921571Z",
          "shell.execute_reply.started": "2023-03-12T18:58:30.023285Z",
          "shell.execute_reply": "2023-03-12T18:58:36.920439Z"
        },
        "trusted": true,
        "id": "U7bHXVc53XW8"
      },
      "execution_count": null,
      "outputs": []
    },
    {
      "cell_type": "code",
      "source": [
        "#This line of code evaluates the performance of the pre-trained model on the validation dataset.\n",
        "loaded_model.evaluate(valid_data)"
      ],
      "metadata": {
        "execution": {
          "iopub.status.busy": "2023-03-12T19:09:08.868904Z",
          "iopub.execute_input": "2023-03-12T19:09:08.870223Z",
          "iopub.status.idle": "2023-03-12T19:09:33.168711Z",
          "shell.execute_reply.started": "2023-03-12T19:09:08.870161Z",
          "shell.execute_reply": "2023-03-12T19:09:33.167603Z"
        },
        "trusted": true,
        "id": "yWL3sNVn3XW9"
      },
      "execution_count": null,
      "outputs": []
    }
  ]
}